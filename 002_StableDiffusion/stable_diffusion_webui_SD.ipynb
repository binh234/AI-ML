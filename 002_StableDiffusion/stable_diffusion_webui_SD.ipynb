{
 "cells": [
  {
   "cell_type": "code",
   "execution_count": 1,
   "id": "91a3593e-ce51-4003-95a4-950c9642b46d",
   "metadata": {
    "tags": []
   },
   "outputs": [
    {
     "name": "stdout",
     "output_type": "stream",
     "text": [
      "\u001b[33mWARNING: Running pip as the 'root' user can result in broken permissions and conflicting behaviour with the system package manager. It is recommended to use a virtual environment instead: https://pip.pypa.io/warnings/venv\u001b[0m\u001b[33m\n",
      "\u001b[0m\n",
      "\u001b[1m[\u001b[0m\u001b[34;49mnotice\u001b[0m\u001b[1;39;49m]\u001b[0m\u001b[39;49m A new release of pip is available: \u001b[0m\u001b[31;49m23.0.1\u001b[0m\u001b[39;49m -> \u001b[0m\u001b[32;49m23.1.2\u001b[0m\n",
      "\u001b[1m[\u001b[0m\u001b[34;49mnotice\u001b[0m\u001b[1;39;49m]\u001b[0m\u001b[39;49m To update, run: \u001b[0m\u001b[32;49mpython -m pip install --upgrade pip\u001b[0m\n"
     ]
    }
   ],
   "source": [
    "!pip install -q tqdm\n",
    "\n",
    "import os\n",
    "import requests\n",
    "\n",
    "from tqdm.auto import tqdm"
   ]
  },
  {
   "cell_type": "code",
   "execution_count": 2,
   "id": "8f181afb-7542-4ead-9327-60e8f52b83ad",
   "metadata": {
    "tags": []
   },
   "outputs": [],
   "source": [
    "def download_file(url, save_name):\n",
    "    if not os.path.exists(save_name):\n",
    "        print(f\"Downloading file\")\n",
    "        file = requests.get(url, stream=True)\n",
    "        total_size = int(file.headers.get('content-length', 0))\n",
    "        block_size = 1024\n",
    "        progress_bar = tqdm(\n",
    "            total=total_size, \n",
    "            unit='iB', \n",
    "            unit_scale=True\n",
    "        )\n",
    "        with open(os.path.join(save_name), 'wb') as f:\n",
    "            for data in file.iter_content(block_size):\n",
    "                progress_bar.update(len(data))\n",
    "                f.write(data)\n",
    "        progress_bar.close()\n",
    "    else:\n",
    "        print('File already present')"
   ]
  },
  {
   "cell_type": "code",
   "execution_count": 3,
   "id": "bf98abd5-5c69-49f0-a602-5216ccce9752",
   "metadata": {
    "tags": []
   },
   "outputs": [],
   "source": [
    "if not os.path.exists('stable-diffusion-webui'):\n",
    "    !git clone https://github.com/AUTOMATIC1111/stable-diffusion-webui.git"
   ]
  },
  {
   "cell_type": "code",
   "execution_count": 4,
   "id": "e26bd61f-250f-4c29-8bc2-408929f285b9",
   "metadata": {
    "tags": []
   },
   "outputs": [
    {
     "name": "stdout",
     "output_type": "stream",
     "text": [
      "/workspace/stable-diffusion-webui\n"
     ]
    }
   ],
   "source": [
    "%cd stable-diffusion-webui"
   ]
  },
  {
   "cell_type": "code",
   "execution_count": 5,
   "id": "d5a9f999-d41b-40fe-b0d4-d785f58feccf",
   "metadata": {
    "tags": []
   },
   "outputs": [
    {
     "name": "stdout",
     "output_type": "stream",
     "text": [
      "/workspace/stable-diffusion-webui/models/Stable-diffusion\n"
     ]
    }
   ],
   "source": [
    "%cd models/Stable-diffusion"
   ]
  },
  {
   "cell_type": "code",
   "execution_count": 6,
   "id": "4a7f8461-cd4d-4981-8a3c-2364afaa8c00",
   "metadata": {
    "tags": []
   },
   "outputs": [
    {
     "name": "stdout",
     "output_type": "stream",
     "text": [
      "File already present\n"
     ]
    }
   ],
   "source": [
    "download_file(\n",
    "    'https://huggingface.co/runwayml/stable-diffusion-v1-5/resolve/main/v1-5-pruned-emaonly.ckpt',\n",
    "    'v1-5-pruned-emaonly.ckpt'\n",
    ")"
   ]
  },
  {
   "cell_type": "code",
   "execution_count": 7,
   "id": "5599eab9-4092-4095-9808-0aa3ce03a6c9",
   "metadata": {
    "tags": []
   },
   "outputs": [
    {
     "name": "stdout",
     "output_type": "stream",
     "text": [
      "File already present\n"
     ]
    }
   ],
   "source": [
    "download_file(\n",
    "    'https://huggingface.co/stabilityai/stable-diffusion-2-1-base/resolve/main/v2-1_512-ema-pruned.ckpt',\n",
    "    'v2-1_512-ema-pruned.ckpt'\n",
    ")"
   ]
  },
  {
   "cell_type": "code",
   "execution_count": 9,
   "id": "60519a0b-43a2-43ca-854a-525d7180d548",
   "metadata": {
    "tags": []
   },
   "outputs": [
    {
     "name": "stdout",
     "output_type": "stream",
     "text": [
      "/workspace/stable-diffusion-webui\n"
     ]
    }
   ],
   "source": [
    "%cd ../../"
   ]
  },
  {
   "cell_type": "code",
   "execution_count": 10,
   "id": "df8b5188-a3b1-4ca4-99c4-c46d8b76bcbe",
   "metadata": {
    "tags": []
   },
   "outputs": [
    {
     "name": "stdout",
     "output_type": "stream",
     "text": [
      "Python 3.10.10 (main, Feb  8 2023, 14:50:01) [GCC 9.4.0]\n",
      "Commit hash: 5ab7f213bec2f816f9c5644becb32eb72c8ffb89\n",
      "Installing gfpgan\n",
      "Installing clip\n",
      "Installing open_clip\n",
      "Installing requirements for CodeFormer\n",
      "Installing requirements\n",
      "Installing sd-webui-controlnet requirement: mediapipe\n",
      "Installing sd-webui-controlnet requirement: svglib\n",
      "Couldn't install sd-webui-controlnet requirement: svglib.\n",
      "Command: \"/usr/bin/python\" -m pip install svglib --prefer-binary\n",
      "Error code: 1\n",
      "stdout: Collecting svglib\n",
      "  Downloading svglib-1.5.1.tar.gz (913 kB)\n",
      "\u001b[2K     \u001b[90m━━━━━━━━━━━━━━━━━━━━━━━━━━━━━━━━━━━━━━━\u001b[0m \u001b[32m913.9/913.9 kB\u001b[0m \u001b[31m9.3 MB/s\u001b[0m eta \u001b[36m0:00:00\u001b[0ma \u001b[36m0:00:01\u001b[0m\n",
      "\u001b[?25h  Preparing metadata (setup.py): started\n",
      "  Preparing metadata (setup.py): finished with status 'done'\n",
      "Collecting reportlab\n",
      "  Downloading reportlab-4.0.0-py3-none-any.whl (1.9 MB)\n",
      "\u001b[2K     \u001b[90m━━━━━━━━━━━━━━━━━━━━━━━━━━━━━━━━━━━━━━━━\u001b[0m \u001b[32m1.9/1.9 MB\u001b[0m \u001b[31m43.2 MB/s\u001b[0m eta \u001b[36m0:00:00\u001b[0m00:01\u001b[0m\n",
      "\u001b[?25hCollecting lxml\n",
      "  Downloading lxml-4.9.2-cp310-cp310-manylinux_2_17_x86_64.manylinux2014_x86_64.manylinux_2_24_x86_64.whl (7.1 MB)\n",
      "\u001b[2K     \u001b[90m━━━━━━━━━━━━━━━━━━━━━━━━━━━━━━━━━━━━━━━━\u001b[0m \u001b[32m7.1/7.1 MB\u001b[0m \u001b[31m60.9 MB/s\u001b[0m eta \u001b[36m0:00:00\u001b[0m00:01\u001b[0m00:01\u001b[0mm\n",
      "\u001b[?25hRequirement already satisfied: tinycss2>=0.6.0 in /usr/local/lib/python3.10/dist-packages (from svglib) (1.2.1)\n",
      "Collecting cssselect2>=0.2.0\n",
      "  Downloading cssselect2-0.7.0-py3-none-any.whl (15 kB)\n",
      "Requirement already satisfied: webencodings in /usr/local/lib/python3.10/dist-packages (from cssselect2>=0.2.0->svglib) (0.5.1)\n",
      "Requirement already satisfied: pillow>=9.0.0 in /usr/local/lib/python3.10/dist-packages (from reportlab->svglib) (9.4.0)\n",
      "Collecting rlPyCairo<1,>=0.2.0\n",
      "  Downloading rlPyCairo-0.2.0-py3-none-any.whl (10 kB)\n",
      "Collecting freetype-py<2.4,>=2.3.0\n",
      "  Downloading freetype_py-2.3.0-py3-none-manylinux_2_5_x86_64.manylinux1_x86_64.manylinux_2_12_x86_64.manylinux2010_x86_64.whl (978 kB)\n",
      "\u001b[2K     \u001b[90m━━━━━━━━━━━━━━━━━━━━━━━━━━━━━━━━━━━━━━\u001b[0m \u001b[32m978.9/978.9 kB\u001b[0m \u001b[31m78.0 MB/s\u001b[0m eta \u001b[36m0:00:00\u001b[0m\n",
      "\u001b[?25hCollecting pycairo>=1.20.0\n",
      "  Downloading pycairo-1.23.0.tar.gz (344 kB)\n",
      "\u001b[2K     \u001b[90m━━━━━━━━━━━━━━━━━━━━━━━━━━━━━━━━━━━━━━\u001b[0m \u001b[32m344.6/344.6 kB\u001b[0m \u001b[31m49.6 MB/s\u001b[0m eta \u001b[36m0:00:00\u001b[0m\n",
      "\u001b[?25h  Installing build dependencies: started\n",
      "  Installing build dependencies: finished with status 'done'\n",
      "  Getting requirements to build wheel: started\n",
      "  Getting requirements to build wheel: finished with status 'done'\n",
      "  Installing backend dependencies: started\n",
      "  Installing backend dependencies: finished with status 'done'\n",
      "  Preparing metadata (pyproject.toml): started\n",
      "  Preparing metadata (pyproject.toml): finished with status 'done'\n",
      "Building wheels for collected packages: svglib, pycairo\n",
      "  Building wheel for svglib (setup.py): started\n",
      "  Building wheel for svglib (setup.py): finished with status 'done'\n",
      "  Created wheel for svglib: filename=svglib-1.5.1-py3-none-any.whl size=30910 sha256=34c42786cdc1bbede731d0f85183cb916fc2d1afe7cf2d83311067e67a5fb29a\n",
      "  Stored in directory: /root/.cache/pip/wheels/56/9f/90/f37f4b9dbf82987a24ae14f15586e96715cb669a4710b3b85d\n",
      "  Building wheel for pycairo (pyproject.toml): started\n",
      "  Building wheel for pycairo (pyproject.toml): finished with status 'error'\n",
      "Successfully built svglib\n",
      "Failed to build pycairo\n",
      "\n",
      "stderr:   \u001b[1;31merror\u001b[0m: \u001b[1msubprocess-exited-with-error\u001b[0m\n",
      "  \n",
      "  \u001b[31m×\u001b[0m \u001b[32mBuilding wheel for pycairo \u001b[0m\u001b[1;32m(\u001b[0m\u001b[32mpyproject.toml\u001b[0m\u001b[1;32m)\u001b[0m did not run successfully.\n",
      "  \u001b[31m│\u001b[0m exit code: \u001b[1;36m1\u001b[0m\n",
      "  \u001b[31m╰─>\u001b[0m \u001b[31m[12 lines of output]\u001b[0m\n",
      "  \u001b[31m   \u001b[0m running bdist_wheel\n",
      "  \u001b[31m   \u001b[0m running build\n",
      "  \u001b[31m   \u001b[0m running build_py\n",
      "  \u001b[31m   \u001b[0m creating build\n",
      "  \u001b[31m   \u001b[0m creating build/lib.linux-x86_64-cpython-310\n",
      "  \u001b[31m   \u001b[0m creating build/lib.linux-x86_64-cpython-310/cairo\n",
      "  \u001b[31m   \u001b[0m copying cairo/__init__.py -> build/lib.linux-x86_64-cpython-310/cairo\n",
      "  \u001b[31m   \u001b[0m copying cairo/__init__.pyi -> build/lib.linux-x86_64-cpython-310/cairo\n",
      "  \u001b[31m   \u001b[0m copying cairo/py.typed -> build/lib.linux-x86_64-cpython-310/cairo\n",
      "  \u001b[31m   \u001b[0m running build_ext\n",
      "  \u001b[31m   \u001b[0m 'pkg-config' not found.\n",
      "  \u001b[31m   \u001b[0m Command ['pkg-config', '--print-errors', '--exists', 'cairo >= 1.15.10']\n",
      "  \u001b[31m   \u001b[0m \u001b[31m[end of output]\u001b[0m\n",
      "  \n",
      "  \u001b[1;35mnote\u001b[0m: This error originates from a subprocess, and is likely not a problem with pip.\n",
      "\u001b[31m  ERROR: Failed building wheel for pycairo\u001b[0m\u001b[31m\n",
      "\u001b[0m\u001b[31mERROR: Could not build wheels for pycairo, which is required to install pyproject.toml-based projects\u001b[0m\u001b[31m\n",
      "\u001b[0m\n",
      "\u001b[1m[\u001b[0m\u001b[34;49mnotice\u001b[0m\u001b[1;39;49m]\u001b[0m\u001b[39;49m A new release of pip is available: \u001b[0m\u001b[31;49m23.0.1\u001b[0m\u001b[39;49m -> \u001b[0m\u001b[32;49m23.1.2\u001b[0m\n",
      "\u001b[1m[\u001b[0m\u001b[34;49mnotice\u001b[0m\u001b[1;39;49m]\u001b[0m\u001b[39;49m To update, run: \u001b[0m\u001b[32;49mpython -m pip install --upgrade pip\u001b[0m\n",
      "\n",
      "\n",
      "Warning: Failed to install svglib, some preprocessors may not work.\n",
      "Installing sd-webui-controlnet requirement: fvcore\n",
      "\n",
      "Launching Web UI with arguments: --share\n",
      "No module 'xformers'. Proceeding without it.\n",
      "ControlNet v1.1.150\n",
      "ControlNet v1.1.150\n",
      "Loading weights [cc6cb27103] from /workspace/stable-diffusion-webui/models/Stable-diffusion/v1-5-pruned-emaonly.ckpt\n",
      "Creating model from config: /workspace/stable-diffusion-webui/configs/v1-inference.yaml\n",
      "LatentDiffusion: Running in eps-prediction mode\n",
      "DiffusionWrapper has 859.52 M params.\n",
      "Downloading (…)olve/main/vocab.json: 100%|███| 961k/961k [00:00<00:00, 6.53MB/s]\n",
      "Downloading (…)olve/main/merges.txt: 100%|███| 525k/525k [00:00<00:00, 5.16MB/s]\n",
      "Downloading (…)cial_tokens_map.json: 100%|█████| 389/389 [00:00<00:00, 6.28MB/s]\n",
      "Downloading (…)okenizer_config.json: 100%|█████| 905/905 [00:00<00:00, 18.5MB/s]\n",
      "Downloading (…)lve/main/config.json: 100%|█| 4.52k/4.52k [00:00<00:00, 48.6MB/s]\n",
      "Applying cross attention optimization (Doggettx).\n",
      "Textual inversion embeddings loaded(0): \n",
      "Model loaded in 4.8s (load weights from disk: 1.7s, create model: 1.7s, apply weights to model: 0.5s, apply half(): 0.5s, move model to device: 0.3s).\n",
      "Running on local URL:  http://127.0.0.1:7860\n",
      "Running on public URL: https://58e4aa957a6323cf0f.gradio.live\n",
      "\n",
      "This share link expires in 72 hours. For free permanent hosting and GPU upgrades (NEW!), check out Spaces: https://huggingface.co/spaces\n",
      "Startup time: 12.6s (import torch: 0.6s, import gradio: 0.8s, import ldm: 0.3s, other imports: 0.6s, load scripts: 0.3s, load SD checkpoint: 4.9s, create ui: 0.1s, gradio launch: 5.0s).\n",
      "^C\n",
      "Interrupted with signal 2 in <frame at 0xed5d1170, file '/workspace/stable-diffusion-webui/webui.py', line 266, code wait_on_server>\n"
     ]
    }
   ],
   "source": [
    "!python launch.py --share"
   ]
  },
  {
   "cell_type": "code",
   "execution_count": null,
   "id": "0dec971b-6cd6-4564-ad91-1f182cd0efed",
   "metadata": {},
   "outputs": [],
   "source": []
  },
  {
   "cell_type": "code",
   "execution_count": null,
   "id": "8cafcf7d-a560-45e1-b5f0-cbca857b89ff",
   "metadata": {},
   "outputs": [],
   "source": []
  }
 ],
 "metadata": {
  "kernelspec": {
   "display_name": "Python 3 (ipykernel)",
   "language": "python",
   "name": "python3"
  },
  "language_info": {
   "codemirror_mode": {
    "name": "ipython",
    "version": 3
   },
   "file_extension": ".py",
   "mimetype": "text/x-python",
   "name": "python",
   "nbconvert_exporter": "python",
   "pygments_lexer": "ipython3",
   "version": "3.10.10"
  }
 },
 "nbformat": 4,
 "nbformat_minor": 5
}
